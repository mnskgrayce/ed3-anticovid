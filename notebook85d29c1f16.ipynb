{
 "cells": [
  {
   "cell_type": "markdown",
   "id": "a2e23bd5",
   "metadata": {
    "id": "view-in-github",
    "papermill": {
     "duration": 0.003667,
     "end_time": "2022-01-07T16:26:31.965748",
     "exception": false,
     "start_time": "2022-01-07T16:26:31.962081",
     "status": "completed"
    },
    "tags": []
   },
   "source": [
    "<a href=\"https://colab.research.google.com/github/minhxiro/asadsda/blob/main/starter_online_shopping_b919f8e5_d.ipynb\" target=\"_parent\"><img src=\"https://colab.research.google.com/assets/colab-badge.svg\" alt=\"Open In Colab\"/></a>"
   ]
  },
  {
   "cell_type": "markdown",
   "id": "0eb52e1c",
   "metadata": {
    "id": "r0j-dMlupxPy",
    "papermill": {
     "duration": 0.002298,
     "end_time": "2022-01-07T16:26:31.971134",
     "exception": false,
     "start_time": "2022-01-07T16:26:31.968836",
     "status": "completed"
    },
    "tags": []
   },
   "source": [
    "## Introduction\n",
    "Greetings from the Kaggle bot! This is an automatically-generated kernel with starter code demonstrating how to read in the data and begin exploring. If you're inspired to dig deeper, click the blue \"Fork Notebook\" button at the top of this kernel to begin editing."
   ]
  }
 ],
 "metadata": {
  "kernelspec": {
   "display_name": "Python 3",
   "language": "python",
   "name": "python3"
  },
  "language_info": {
   "codemirror_mode": {
    "name": "ipython",
    "version": 3
   },
   "file_extension": ".py",
   "mimetype": "text/x-python",
   "name": "python",
   "nbconvert_exporter": "python",
   "pygments_lexer": "ipython3",
   "version": "3.7.12"
  },
  "papermill": {
   "default_parameters": {},
   "duration": 11.181749,
   "end_time": "2022-01-07T16:26:32.786038",
   "environment_variables": {},
   "exception": null,
   "input_path": "__notebook__.ipynb",
   "output_path": "__notebook__.ipynb",
   "parameters": {},
   "start_time": "2022-01-07T16:26:21.604289",
   "version": "2.3.3"
  }
 },
 "nbformat": 4,
 "nbformat_minor": 5
}
